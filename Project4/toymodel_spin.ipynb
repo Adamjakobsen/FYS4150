{
 "cells": [
  {
   "cell_type": "code",
   "execution_count": 8,
   "metadata": {},
   "outputs": [],
   "source": [
    "list_config_1 = [\"+\", \"+\", \"-\", \"-\"]\n",
    "list_config_2 = [\"+\", \"+\", \"+\", \"+\"]\n",
    "list_config_3 = [\"-\", \"-\", \"-\", \"-\"]\n",
    "list_config_4 = [\"+\", \"+\", \"+\", \"-\"]\n",
    "list_config_5 = [\"+\", \"-\", \"-\", \"-\"]"
   ]
  },
  {
   "cell_type": "code",
   "execution_count": 9,
   "metadata": {},
   "outputs": [],
   "source": [
    "#write permutations of 0,1,2,3\n",
    "def permute(list_config):\n",
    "    if len(list_config) == 0:\n",
    "        return []\n",
    "    if len(list_config) == 1:\n",
    "        return [list_config]\n",
    "    l = []\n",
    "    for i in range(len(list_config)):\n",
    "        m = list_config[i]\n",
    "        remLst = list_config[:i] + list_config[i+1:]\n",
    "        for p in permute(remLst):\n",
    "            l.append([m] + p)\n",
    "    return l"
   ]
  },
  {
   "cell_type": "code",
   "execution_count": 10,
   "metadata": {},
   "outputs": [],
   "source": [
    "index = permute([0,1,2,3])"
   ]
  },
  {
   "cell_type": "code",
   "execution_count": 11,
   "metadata": {},
   "outputs": [],
   "source": [
    "set_ = [] \n",
    "\n",
    "for set_of_index in index:\n",
    "    string = ''\n",
    "    for i in set_of_index:\n",
    "        string += list_config_1[i] \n",
    "    set_.append(string)"
   ]
  },
  {
   "cell_type": "code",
   "execution_count": 12,
   "metadata": {},
   "outputs": [
    {
     "data": {
      "text/plain": [
       "{'++--', '+-+-', '+--+', '-++-', '-+-+', '--++'}"
      ]
     },
     "execution_count": 12,
     "metadata": {},
     "output_type": "execute_result"
    }
   ],
   "source": [
    "strings = set(set_)\n",
    "strings"
   ]
  },
  {
   "cell_type": "code",
   "execution_count": 13,
   "metadata": {},
   "outputs": [],
   "source": [
    "def find_interacting_pairs(index, string):\n",
    "    neibours = {'0':[1, 2, 1, 2], '1':[0, 3, 0, 3], '2':[0, 3, 0, 3], '3':[1, 2, 1, 2]}\n",
    "    neibours = neibours[str(index)]\n",
    "    interacting_pairs = [(string[index], string[x]) for x in neibours]\n",
    "    return interacting_pairs"
   ]
  },
  {
   "cell_type": "code",
   "execution_count": 14,
   "metadata": {},
   "outputs": [
    {
     "data": {
      "text/plain": [
       "[('+', '-'), ('+', '+'), ('+', '-'), ('+', '+')]"
      ]
     },
     "execution_count": 14,
     "metadata": {},
     "output_type": "execute_result"
    }
   ],
   "source": [
    "test = find_interacting_pairs(0, '+-++')\n",
    "test"
   ]
  },
  {
   "cell_type": "code",
   "execution_count": 15,
   "metadata": {},
   "outputs": [],
   "source": [
    "def find_energy_given_string_of_configurations(string):\n",
    "    \"\"\"\n",
    "    notice we are taking into account the periodic boundary conditions\n",
    "    \"\"\"\n",
    "    energy = 0\n",
    "    for i in range(len(string)):\n",
    "        interacting_pairs = find_interacting_pairs(i, string)\n",
    "        for a,b in interacting_pairs:\n",
    "            a += '1'\n",
    "            b += '1'\n",
    "            prod = a + '*' +b\n",
    "            energy += eval(prod)\n",
    "    return (-1/2)*energy ## notice the minus sign and that we count each pair twice"
   ]
  },
  {
   "cell_type": "code",
   "execution_count": 16,
   "metadata": {},
   "outputs": [
    {
     "data": {
      "text/plain": [
       "-0.0"
      ]
     },
     "execution_count": 16,
     "metadata": {},
     "output_type": "execute_result"
    }
   ],
   "source": [
    "find_energy_given_string_of_configurations('+---')"
   ]
  },
  {
   "cell_type": "code",
   "execution_count": 17,
   "metadata": {},
   "outputs": [
    {
     "data": {
      "text/plain": [
       "{'++--', '+-+-', '+--+', '-++-', '-+-+', '--++'}"
      ]
     },
     "execution_count": 17,
     "metadata": {},
     "output_type": "execute_result"
    }
   ],
   "source": [
    "strings"
   ]
  },
  {
   "cell_type": "code",
   "execution_count": 19,
   "metadata": {},
   "outputs": [
    {
     "data": {
      "text/plain": [
       "{'++--': -0.0,\n",
       " '+-+-': -0.0,\n",
       " '-++-': 8.0,\n",
       " '-+-+': -0.0,\n",
       " '--++': -0.0,\n",
       " '+--+': 8.0}"
      ]
     },
     "execution_count": 19,
     "metadata": {},
     "output_type": "execute_result"
    }
   ],
   "source": [
    "ising_model(strings)"
   ]
  },
  {
   "cell_type": "code",
   "execution_count": 20,
   "metadata": {},
   "outputs": [],
   "source": [
    "#### scaling the problem"
   ]
  },
  {
   "cell_type": "code",
   "execution_count": 48,
   "metadata": {},
   "outputs": [],
   "source": [
    "## Generate random configurations of N = L X L spins\n",
    "import random \n",
    "import numpy as np\n",
    "def generate_random_configurations(L):\n",
    "    \"\"\"\n",
    "    L is the length of the square lattice\n",
    "    \"\"\"\n",
    "    configurations = np.zeros((L, L))\n",
    "    for i in range(L):\n",
    "        for j in range(L):\n",
    "            configurations[i, j] = random.choice([+1, -1])\n",
    "    return configurations"
   ]
  },
  {
   "cell_type": "code",
   "execution_count": 224,
   "metadata": {},
   "outputs": [
    {
     "data": {
      "text/plain": [
       "array([[-1., -1., -1.,  1.,  1., -1., -1.,  1.,  1., -1.],\n",
       "       [ 1.,  1., -1., -1., -1.,  1.,  1., -1., -1., -1.],\n",
       "       [ 1.,  1.,  1.,  1., -1.,  1., -1., -1., -1.,  1.],\n",
       "       [ 1.,  1.,  1., -1., -1.,  1.,  1.,  1.,  1.,  1.],\n",
       "       [ 1., -1., -1., -1., -1., -1.,  1., -1.,  1., -1.],\n",
       "       [ 1., -1., -1., -1., -1., -1., -1.,  1.,  1.,  1.],\n",
       "       [-1., -1.,  1., -1., -1., -1., -1.,  1.,  1.,  1.],\n",
       "       [ 1.,  1.,  1., -1.,  1.,  1.,  1.,  1.,  1., -1.],\n",
       "       [ 1., -1.,  1.,  1.,  1.,  1., -1., -1.,  1.,  1.],\n",
       "       [-1., -1.,  1.,  1.,  1.,  1., -1.,  1.,  1., -1.]])"
      ]
     },
     "execution_count": 224,
     "metadata": {},
     "output_type": "execute_result"
    }
   ],
   "source": [
    "configuration = generate_random_configurations(10)\n",
    "configuration \n"
   ]
  },
  {
   "cell_type": "code",
   "execution_count": 225,
   "metadata": {},
   "outputs": [
    {
     "data": {
      "text/plain": [
       "[24, 9]"
      ]
     },
     "execution_count": 225,
     "metadata": {},
     "output_type": "execute_result"
    }
   ],
   "source": [
    "index = 4\n",
    "L = 5\n",
    "top_neibours = [(index - L)%25, (index + L)%25]\n",
    "top_neibours"
   ]
  },
  {
   "cell_type": "code",
   "execution_count": 226,
   "metadata": {},
   "outputs": [],
   "source": [
    "def find_interacting_pairs(index, raveled_config, L):\n",
    "    side_neibours = [(index - 1) % L + L*(index//L), (index + 1) % L+ L*(index//L)]\n",
    "    top_neibours = [(index - L)%L*L, (index + L)%L*L]\n",
    "    neibours = side_neibours + top_neibours\n",
    "\n",
    "    interacting_pairs = [(raveled_config[index], raveled_config[x]) for x in neibours]\n",
    "    return interacting_pairs"
   ]
  },
  {
   "cell_type": "code",
   "execution_count": 227,
   "metadata": {},
   "outputs": [
    {
     "data": {
      "text/plain": [
       "[(-1.0, 1.0), (-1.0, -1.0), (-1.0, -1.0), (-1.0, -1.0)]"
      ]
     },
     "execution_count": 227,
     "metadata": {},
     "output_type": "execute_result"
    }
   ],
   "source": [
    "## seems to work\n",
    "test = find_interacting_pairs(0, configuration.ravel(), 5)\n",
    "test"
   ]
  },
  {
   "cell_type": "code",
   "execution_count": 228,
   "metadata": {},
   "outputs": [],
   "source": [
    "def find_energy_given_array_of_configurations(configuration, L):\n",
    "    \"\"\"\n",
    "    notice we are taking into account the periodic boundary conditions\n",
    "    \"\"\"\n",
    "    energy = 0\n",
    "    raveled_config = configuration.ravel()\n",
    "    ## this is dumb now but will be useful later when we select only one term to flip\n",
    "\n",
    "    for i in range(len(raveled_config)):\n",
    "        ## i will be the index of the term. k,l will be the coordinates of the term\n",
    "\n",
    "        interacting_pairs = find_interacting_pairs(i, raveled_config, L)\n",
    "        for a, b in interacting_pairs:\n",
    "            energy += a*b\n",
    "    return (-1/2)*energy ## notice the minus sign and that we count each pair twice"
   ]
  },
  {
   "cell_type": "code",
   "execution_count": 232,
   "metadata": {},
   "outputs": [],
   "source": [
    "# plot a 2d grid of the L x L spins\n",
    "import matplotlib.pyplot as plt\n",
    "def plot_configurations(configuration, L):\n",
    "    \"\"\"\n",
    "    configurations is a 2d array of the L x L spins\n",
    "    \"\"\"\n",
    "    configuration = generate_random_configurations(L)\n",
    "    energy = find_energy_given_array_of_configurations(configuration, L)\n",
    "    plt.imshow(configuration, cmap = 'Purples', interpolation = 'nearest')\n",
    "    plt.title(f'Energy = {energy}')\n",
    "\n",
    "    plt.show()\n",
    "\n"
   ]
  },
  {
   "cell_type": "code",
   "execution_count": 238,
   "metadata": {},
   "outputs": [
    {
     "data": {
      "image/png": "[encoded data removed]",
      "text/plain": [
       "<Figure size 432x288 with 1 Axes>"
      ]
     },
     "metadata": {
      "needs_background": "light"
     },
     "output_type": "display_data"
    }
   ],
   "source": [
    "plot_configurations(configuration, 100)"
   ]
  },
  {
   "cell_type": "code",
   "execution_count": null,
   "metadata": {},
   "outputs": [],
   "source": []
  },
  {
   "cell_type": "code",
   "execution_count": null,
   "metadata": {},
   "outputs": [],
   "source": []
  }
 ],
 "metadata": {
  "kernelspec": {
   "display_name": "Python 3.10.2 64-bit ('3.10.2')",
   "language": "python",
   "name": "python3"
  },
  "language_info": {
   "codemirror_mode": {
    "name": "ipython",
    "version": 3
   },
   "file_extension": ".py",
   "mimetype": "text/x-python",
   "name": "python",
   "nbconvert_exporter": "python",
   "pygments_lexer": "ipython3",
   "version": "3.10.2"
  },
  "orig_nbformat": 4,
  "vscode": {
   "interpreter": {
    "hash": "725bbe29d1c18d191ac0c85feb075f75ad20654624becd29588183ed39edd8e6"
   }
  }
 },
 "nbformat": 4,
 "nbformat_minor": 2
}
