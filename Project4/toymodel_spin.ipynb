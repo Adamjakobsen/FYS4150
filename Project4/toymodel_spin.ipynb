{
 "cells": [
  {
   "cell_type": "code",
   "execution_count": 61,
   "metadata": {},
   "outputs": [],
   "source": [
    "list_config_1 = [\"+\", \"+\", \"-\", \"-\"]\n",
    "list_config_2 = [\"+\", \"+\", \"+\", \"+\"]\n",
    "list_config_3 = [\"-\", \"-\", \"-\", \"-\"]\n",
    "list_config_4 = [\"+\", \"+\", \"+\", \"-\"]\n",
    "list_config_5 = [\"+\", \"-\", \"-\", \"-\"]"
   ]
  },
  {
   "cell_type": "code",
   "execution_count": 62,
   "metadata": {},
   "outputs": [],
   "source": [
    "#write permutations of 0,1,2,3\n",
    "def permute(list_config):\n",
    "    if len(list_config) == 0:\n",
    "        return []\n",
    "    if len(list_config) == 1:\n",
    "        return [list_config]\n",
    "    l = []\n",
    "    for i in range(len(list_config)):\n",
    "        m = list_config[i]\n",
    "        remLst = list_config[:i] + list_config[i+1:]\n",
    "        for p in permute(remLst):\n",
    "            l.append([m] + p)\n",
    "    return l"
   ]
  },
  {
   "cell_type": "code",
   "execution_count": 63,
   "metadata": {},
   "outputs": [],
   "source": [
    "index = permute([0,1,2,3])"
   ]
  },
  {
   "cell_type": "code",
   "execution_count": 64,
   "metadata": {},
   "outputs": [],
   "source": [
    "set_ = [] \n",
    "\n",
    "for set_of_index in index:\n",
    "    string = ''\n",
    "    for i in set_of_index:\n",
    "        string += list_config_1[i] \n",
    "    set_.append(string)"
   ]
  },
  {
   "cell_type": "code",
   "execution_count": 65,
   "metadata": {},
   "outputs": [
    {
     "data": {
      "text/plain": [
       "{'++--', '+-+-', '+--+', '-++-', '-+-+', '--++'}"
      ]
     },
     "execution_count": 65,
     "metadata": {},
     "output_type": "execute_result"
    }
   ],
   "source": [
    "strings = set(set_)\n",
    "strings"
   ]
  },
  {
   "cell_type": "code",
   "execution_count": 66,
   "metadata": {},
   "outputs": [],
   "source": [
    "def find_interacting_pairs(index, string):\n",
    "    neibours = {'0':[1, 2, 1, 2], '1':[0, 3, 0, 3], '2':[0, 3, 0, 3], '3':[1, 2, 1, 2]}\n",
    "    neibours = neibours[str(index)]\n",
    "    interacting_pairs = [(string[index], string[x]) for x in neibours]\n",
    "    return interacting_pairs"
   ]
  },
  {
   "cell_type": "code",
   "execution_count": 67,
   "metadata": {},
   "outputs": [
    {
     "data": {
      "text/plain": [
       "[('+', '-'), ('+', '+'), ('+', '-'), ('+', '+')]"
      ]
     },
     "execution_count": 67,
     "metadata": {},
     "output_type": "execute_result"
    }
   ],
   "source": [
    "test = find_interacting_pairs(0, '+-++')\n",
    "test"
   ]
  },
  {
   "cell_type": "code",
   "execution_count": 68,
   "metadata": {},
   "outputs": [],
   "source": [
    "def find_energy_given_string_of_configurations(string):\n",
    "    \"\"\"\n",
    "    notice we are taking into account the periodic boundary conditions\n",
    "    \"\"\"\n",
    "    energy = 0\n",
    "    for i in range(len(string)):\n",
    "        interacting_pairs = find_interacting_pairs(i, string)\n",
    "        for a,b in interacting_pairs:\n",
    "            a += '1'\n",
    "            b += '1'\n",
    "            prod = a + '*' +b\n",
    "            energy += eval(prod)\n",
    "    return (-1/2)*energy ## notice the minus sign and that we count each pair twice"
   ]
  },
  {
   "cell_type": "code",
   "execution_count": 69,
   "metadata": {},
   "outputs": [
    {
     "data": {
      "text/plain": [
       "-0.0"
      ]
     },
     "execution_count": 69,
     "metadata": {},
     "output_type": "execute_result"
    }
   ],
   "source": [
    "find_energy_given_string_of_configurations('+---')"
   ]
  },
  {
   "cell_type": "code",
   "execution_count": 70,
   "metadata": {},
   "outputs": [
    {
     "data": {
      "text/plain": [
       "{'++--', '+-+-', '+--+', '-++-', '-+-+', '--++'}"
      ]
     },
     "execution_count": 70,
     "metadata": {},
     "output_type": "execute_result"
    }
   ],
   "source": [
    "strings"
   ]
  },
  {
   "cell_type": "code",
   "execution_count": 71,
   "metadata": {},
   "outputs": [],
   "source": [
    "def ising_model(strings):\n",
    "    micro_states = {}\n",
    "    energy = []\n",
    "    for string in strings:\n",
    "        micro_states[string] = find_energy_given_string_of_configurations(string)\n",
    "    return micro_states\n"
   ]
  },
  {
   "cell_type": "code",
   "execution_count": 72,
   "metadata": {},
   "outputs": [
    {
     "data": {
      "text/plain": [
       "{'++--': -0.0,\n",
       " '--++': -0.0,\n",
       " '-++-': 8.0,\n",
       " '+--+': 8.0,\n",
       " '+-+-': -0.0,\n",
       " '-+-+': -0.0}"
      ]
     },
     "execution_count": 72,
     "metadata": {},
     "output_type": "execute_result"
    }
   ],
   "source": [
    "ising_model(strings)"
   ]
  }
 ],
 "metadata": {
  "kernelspec": {
   "display_name": "Python 3.10.2 64-bit ('3.10.2')",
   "language": "python",
   "name": "python3"
  },
  "language_info": {
   "codemirror_mode": {
    "name": "ipython",
    "version": 3
   },
   "file_extension": ".py",
   "mimetype": "text/x-python",
   "name": "python",
   "nbconvert_exporter": "python",
   "pygments_lexer": "ipython3",
   "version": "3.10.2"
  },
  "orig_nbformat": 4,
  "vscode": {
   "interpreter": {
    "hash": "725bbe29d1c18d191ac0c85feb075f75ad20654624becd29588183ed39edd8e6"
   }
  }
 },
 "nbformat": 4,
 "nbformat_minor": 2
}
