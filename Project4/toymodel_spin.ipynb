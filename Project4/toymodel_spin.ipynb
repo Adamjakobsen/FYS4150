{
 "cells": [
  {
   "cell_type": "code",
   "execution_count": 8,
   "metadata": {},
   "outputs": [],
   "source": [
    "list_config_1 = [\"+\", \"+\", \"-\", \"-\"]\n",
    "list_config_2 = [\"+\", \"+\", \"+\", \"+\"]\n",
    "list_config_3 = [\"-\", \"-\", \"-\", \"-\"]\n",
    "list_config_4 = [\"+\", \"+\", \"+\", \"-\"]\n",
    "list_config_5 = [\"+\", \"-\", \"-\", \"-\"]"
   ]
  },
  {
   "cell_type": "code",
   "execution_count": 9,
   "metadata": {},
   "outputs": [],
   "source": [
    "#write permutations of 0,1,2,3\n",
    "def permute(list_config):\n",
    "    if len(list_config) == 0:\n",
    "        return []\n",
    "    if len(list_config) == 1:\n",
    "        return [list_config]\n",
    "    l = []\n",
    "    for i in range(len(list_config)):\n",
    "        m = list_config[i]\n",
    "        remLst = list_config[:i] + list_config[i+1:]\n",
    "        for p in permute(remLst):\n",
    "            l.append([m] + p)\n",
    "    return l"
   ]
  },
  {
   "cell_type": "code",
   "execution_count": 10,
   "metadata": {},
   "outputs": [],
   "source": [
    "index = permute([0,1,2,3])"
   ]
  },
  {
   "cell_type": "code",
   "execution_count": 11,
   "metadata": {},
   "outputs": [],
   "source": [
    "set_ = [] \n",
    "\n",
    "for set_of_index in index:\n",
    "    string = ''\n",
    "    for i in set_of_index:\n",
    "        string += list_config_1[i] \n",
    "    set_.append(string)"
   ]
  },
  {
   "cell_type": "code",
   "execution_count": 12,
   "metadata": {},
   "outputs": [
    {
     "data": {
      "text/plain": [
       "{'++--', '+-+-', '+--+', '-++-', '-+-+', '--++'}"
      ]
     },
     "execution_count": 12,
     "metadata": {},
     "output_type": "execute_result"
    }
   ],
   "source": [
    "strings = set(set_)\n",
    "strings"
   ]
  },
  {
   "cell_type": "code",
   "execution_count": 13,
   "metadata": {},
   "outputs": [],
   "source": [
    "def find_interacting_pairs(index, string):\n",
    "    neibours = {'0':[1, 2, 1, 2], '1':[0, 3, 0, 3], '2':[0, 3, 0, 3], '3':[1, 2, 1, 2]}\n",
    "    neibours = neibours[str(index)]\n",
    "    interacting_pairs = [(string[index], string[x]) for x in neibours]\n",
    "    return interacting_pairs"
   ]
  },
  {
   "cell_type": "code",
   "execution_count": 14,
   "metadata": {},
   "outputs": [
    {
     "data": {
      "text/plain": [
       "[('+', '-'), ('+', '+'), ('+', '-'), ('+', '+')]"
      ]
     },
     "execution_count": 14,
     "metadata": {},
     "output_type": "execute_result"
    }
   ],
   "source": [
    "test = find_interacting_pairs(0, '+-++')\n",
    "test"
   ]
  },
  {
   "cell_type": "code",
   "execution_count": 15,
   "metadata": {},
   "outputs": [],
   "source": [
    "def find_energy_given_string_of_configurations(string):\n",
    "    \"\"\"\n",
    "    notice we are taking into account the periodic boundary conditions\n",
    "    \"\"\"\n",
    "    energy = 0\n",
    "    for i in range(len(string)):\n",
    "        interacting_pairs = find_interacting_pairs(i, string)\n",
    "        for a,b in interacting_pairs:\n",
    "            a += '1'\n",
    "            b += '1'\n",
    "            prod = a + '*' +b\n",
    "            energy += eval(prod)\n",
    "    return (-1/2)*energy ## notice the minus sign and that we count each pair twice"
   ]
  },
  {
   "cell_type": "code",
   "execution_count": 16,
   "metadata": {},
   "outputs": [
    {
     "data": {
      "text/plain": [
       "-0.0"
      ]
     },
     "execution_count": 16,
     "metadata": {},
     "output_type": "execute_result"
    }
   ],
   "source": [
    "find_energy_given_string_of_configurations('+---')"
   ]
  },
  {
   "cell_type": "code",
   "execution_count": 17,
   "metadata": {},
   "outputs": [
    {
     "data": {
      "text/plain": [
       "{'++--', '+-+-', '+--+', '-++-', '-+-+', '--++'}"
      ]
     },
     "execution_count": 17,
     "metadata": {},
     "output_type": "execute_result"
    }
   ],
   "source": [
    "strings"
   ]
  },
  {
   "cell_type": "code",
   "execution_count": 19,
   "metadata": {},
   "outputs": [
    {
     "data": {
      "text/plain": [
       "{'++--': -0.0,\n",
       " '+-+-': -0.0,\n",
       " '-++-': 8.0,\n",
       " '-+-+': -0.0,\n",
       " '--++': -0.0,\n",
       " '+--+': 8.0}"
      ]
     },
     "execution_count": 19,
     "metadata": {},
     "output_type": "execute_result"
    }
   ],
   "source": [
    "ising_model(strings)"
   ]
  },
  {
   "cell_type": "code",
   "execution_count": 20,
   "metadata": {},
   "outputs": [],
   "source": [
    "#### scaling the problem"
   ]
  },
  {
   "cell_type": "code",
   "execution_count": 48,
   "metadata": {},
   "outputs": [],
   "source": [
    "## Generate random configurations of N = L X L spins\n",
    "import random \n",
    "import numpy as np\n",
    "def generate_random_configurations(L):\n",
    "    \"\"\"\n",
    "    L is the length of the square lattice\n",
    "    \"\"\"\n",
    "    configurations = np.zeros((L, L))\n",
    "    for i in range(L):\n",
    "        for j in range(L):\n",
    "            configurations[i, j] = random.choice([+1, -1])\n",
    "    return configurations"
   ]
  },
  {
   "cell_type": "code",
   "execution_count": 128,
   "metadata": {},
   "outputs": [
    {
     "data": {
      "text/plain": [
       "array([[ 1.,  1.],\n",
       "       [-1., -1.]])"
      ]
     },
     "execution_count": 128,
     "metadata": {},
     "output_type": "execute_result"
    }
   ],
   "source": [
    "configuration = generate_random_configurations(2)\n",
    "configuration \n"
   ]
  },
  {
   "cell_type": "code",
   "execution_count": 113,
   "metadata": {},
   "outputs": [
    {
     "data": {
      "text/plain": [
       "4"
      ]
     },
     "execution_count": 113,
     "metadata": {},
     "output_type": "execute_result"
    }
   ],
   "source": [
    "len(configuration.ravel())"
   ]
  },
  {
   "cell_type": "code",
   "execution_count": 144,
   "metadata": {},
   "outputs": [],
   "source": [
    "def find_interacting_pairs(index, raveled_config, L):\n",
    "    side_neibours = [index - 1, index + 1]\n",
    "    top_neibours = [index - L, index + L]\n",
    "    neibours = side_neibours + top_neibours\n",
    "    print(neibours)\n",
    "    interacting_pairs = [(raveled_config[index], raveled_config[x]) for x in neibours]\n",
    "    return interacting_pairs"
   ]
  },
  {
   "cell_type": "code",
   "execution_count": 147,
   "metadata": {},
   "outputs": [
    {
     "name": "stdout",
     "output_type": "stream",
     "text": [
      "[1, 3, 0, 4]\n"
     ]
    },
    {
     "ename": "IndexError",
     "evalue": "index 4 is out of bounds for axis 0 with size 4",
     "output_type": "error",
     "traceback": [
      "\u001b[0;31m---------------------------------------------------------------------------\u001b[0m",
      "\u001b[0;31mIndexError\u001b[0m                                Traceback (most recent call last)",
      "\u001b[1;32m/Users/haas/Documents/Masters/CompPhys/adam_repo/FYS4150/Project4/toymodel_spin.ipynb Cell 17\u001b[0m in \u001b[0;36m<cell line: 2>\u001b[0;34m()\u001b[0m\n\u001b[1;32m      <a href='vscode-notebook-cell:/Users/haas/Documents/Masters/CompPhys/adam_repo/FYS4150/Project4/toymodel_spin.ipynb#X40sZmlsZQ%3D%3D?line=0'>1</a>\u001b[0m \u001b[39m## seems to work\u001b[39;00m\n\u001b[0;32m----> <a href='vscode-notebook-cell:/Users/haas/Documents/Masters/CompPhys/adam_repo/FYS4150/Project4/toymodel_spin.ipynb#X40sZmlsZQ%3D%3D?line=1'>2</a>\u001b[0m test \u001b[39m=\u001b[39m find_interacting_pairs(\u001b[39m2\u001b[39;49m, configuration\u001b[39m.\u001b[39;49mravel(), \u001b[39m2\u001b[39;49m)\n\u001b[1;32m      <a href='vscode-notebook-cell:/Users/haas/Documents/Masters/CompPhys/adam_repo/FYS4150/Project4/toymodel_spin.ipynb#X40sZmlsZQ%3D%3D?line=2'>3</a>\u001b[0m test\n",
      "\u001b[1;32m/Users/haas/Documents/Masters/CompPhys/adam_repo/FYS4150/Project4/toymodel_spin.ipynb Cell 17\u001b[0m in \u001b[0;36mfind_interacting_pairs\u001b[0;34m(index, raveled_config, L)\u001b[0m\n\u001b[1;32m      <a href='vscode-notebook-cell:/Users/haas/Documents/Masters/CompPhys/adam_repo/FYS4150/Project4/toymodel_spin.ipynb#X40sZmlsZQ%3D%3D?line=3'>4</a>\u001b[0m neibours \u001b[39m=\u001b[39m side_neibours \u001b[39m+\u001b[39m top_neibours\n\u001b[1;32m      <a href='vscode-notebook-cell:/Users/haas/Documents/Masters/CompPhys/adam_repo/FYS4150/Project4/toymodel_spin.ipynb#X40sZmlsZQ%3D%3D?line=4'>5</a>\u001b[0m \u001b[39mprint\u001b[39m(neibours)\n\u001b[0;32m----> <a href='vscode-notebook-cell:/Users/haas/Documents/Masters/CompPhys/adam_repo/FYS4150/Project4/toymodel_spin.ipynb#X40sZmlsZQ%3D%3D?line=5'>6</a>\u001b[0m interacting_pairs \u001b[39m=\u001b[39m [(raveled_config[index], raveled_config[x]) \u001b[39mfor\u001b[39;00m x \u001b[39min\u001b[39;00m neibours]\n\u001b[1;32m      <a href='vscode-notebook-cell:/Users/haas/Documents/Masters/CompPhys/adam_repo/FYS4150/Project4/toymodel_spin.ipynb#X40sZmlsZQ%3D%3D?line=6'>7</a>\u001b[0m \u001b[39mreturn\u001b[39;00m interacting_pairs\n",
      "\u001b[1;32m/Users/haas/Documents/Masters/CompPhys/adam_repo/FYS4150/Project4/toymodel_spin.ipynb Cell 17\u001b[0m in \u001b[0;36m<listcomp>\u001b[0;34m(.0)\u001b[0m\n\u001b[1;32m      <a href='vscode-notebook-cell:/Users/haas/Documents/Masters/CompPhys/adam_repo/FYS4150/Project4/toymodel_spin.ipynb#X40sZmlsZQ%3D%3D?line=3'>4</a>\u001b[0m neibours \u001b[39m=\u001b[39m side_neibours \u001b[39m+\u001b[39m top_neibours\n\u001b[1;32m      <a href='vscode-notebook-cell:/Users/haas/Documents/Masters/CompPhys/adam_repo/FYS4150/Project4/toymodel_spin.ipynb#X40sZmlsZQ%3D%3D?line=4'>5</a>\u001b[0m \u001b[39mprint\u001b[39m(neibours)\n\u001b[0;32m----> <a href='vscode-notebook-cell:/Users/haas/Documents/Masters/CompPhys/adam_repo/FYS4150/Project4/toymodel_spin.ipynb#X40sZmlsZQ%3D%3D?line=5'>6</a>\u001b[0m interacting_pairs \u001b[39m=\u001b[39m [(raveled_config[index], raveled_config[x]) \u001b[39mfor\u001b[39;00m x \u001b[39min\u001b[39;00m neibours]\n\u001b[1;32m      <a href='vscode-notebook-cell:/Users/haas/Documents/Masters/CompPhys/adam_repo/FYS4150/Project4/toymodel_spin.ipynb#X40sZmlsZQ%3D%3D?line=6'>7</a>\u001b[0m \u001b[39mreturn\u001b[39;00m interacting_pairs\n",
      "\u001b[0;31mIndexError\u001b[0m: index 4 is out of bounds for axis 0 with size 4"
     ]
    }
   ],
   "source": [
    "## seems to work\n",
    "test = find_interacting_pairs(2, configuration.ravel(), 2)\n",
    "test"
   ]
  },
  {
   "cell_type": "code",
   "execution_count": 137,
   "metadata": {},
   "outputs": [],
   "source": [
    "def find_energy_given_array_of_configurations(configuration, L):\n",
    "    \"\"\"\n",
    "    notice we are taking into account the periodic boundary conditions\n",
    "    \"\"\"\n",
    "    energy = 0\n",
    "    raveled_config = configuration.ravel()\n",
    "    ## this is dumb now but will be useful later when we select only one term to flip\n",
    "\n",
    "    for i in range(len(raveled_config)):\n",
    "        ## i will be the index of the term. k,l will be the coordinates of the term\n",
    "\n",
    "        interacting_pairs = find_interacting_pairs(i, raveled_config, L)\n",
    "        for a, b in interacting_pairs:\n",
    "            energy += a*b\n",
    "    return (-1/2)*energy ## notice the minus sign and that we count each pair twice"
   ]
  },
  {
   "cell_type": "code",
   "execution_count": 138,
   "metadata": {},
   "outputs": [],
   "source": [
    "# plot a 2d grid of the L x L spins\n",
    "import matplotlib.pyplot as plt\n",
    "def plot_configurations(configuration, L):\n",
    "    \"\"\"\n",
    "    configurations is a 2d array of the L x L spins\n",
    "    \"\"\"\n",
    "    energy = find_energy_given_array_of_configurations(configuration, L)\n",
    "    plt.imshow(configuration, cmap = 'Purples', interpolation = 'nearest')\n",
    "    plt.title(f'Energy = {energy}')\n",
    "\n",
    "    plt.show()\n",
    "\n"
   ]
  },
  {
   "cell_type": "code",
   "execution_count": 139,
   "metadata": {},
   "outputs": [
    {
     "name": "stdout",
     "output_type": "stream",
     "text": [
      "0\n",
      "1\n",
      "2\n"
     ]
    },
    {
     "ename": "IndexError",
     "evalue": "index 4 is out of bounds for axis 0 with size 4",
     "output_type": "error",
     "traceback": [
      "\u001b[0;31m---------------------------------------------------------------------------\u001b[0m",
      "\u001b[0;31mIndexError\u001b[0m                                Traceback (most recent call last)",
      "\u001b[1;32m/Users/haas/Documents/Masters/CompPhys/adam_repo/FYS4150/Project4/toymodel_spin.ipynb Cell 20\u001b[0m in \u001b[0;36m<cell line: 1>\u001b[0;34m()\u001b[0m\n\u001b[0;32m----> <a href='vscode-notebook-cell:/Users/haas/Documents/Masters/CompPhys/adam_repo/FYS4150/Project4/toymodel_spin.ipynb#X26sZmlsZQ%3D%3D?line=0'>1</a>\u001b[0m plot_configurations(configuration, \u001b[39m2\u001b[39;49m)\n",
      "\u001b[1;32m/Users/haas/Documents/Masters/CompPhys/adam_repo/FYS4150/Project4/toymodel_spin.ipynb Cell 20\u001b[0m in \u001b[0;36mplot_configurations\u001b[0;34m(configuration, L)\u001b[0m\n\u001b[1;32m      <a href='vscode-notebook-cell:/Users/haas/Documents/Masters/CompPhys/adam_repo/FYS4150/Project4/toymodel_spin.ipynb#X26sZmlsZQ%3D%3D?line=2'>3</a>\u001b[0m \u001b[39mdef\u001b[39;00m \u001b[39mplot_configurations\u001b[39m(configuration, L):\n\u001b[1;32m      <a href='vscode-notebook-cell:/Users/haas/Documents/Masters/CompPhys/adam_repo/FYS4150/Project4/toymodel_spin.ipynb#X26sZmlsZQ%3D%3D?line=3'>4</a>\u001b[0m     \u001b[39m\"\"\"\u001b[39;00m\n\u001b[1;32m      <a href='vscode-notebook-cell:/Users/haas/Documents/Masters/CompPhys/adam_repo/FYS4150/Project4/toymodel_spin.ipynb#X26sZmlsZQ%3D%3D?line=4'>5</a>\u001b[0m \u001b[39m    configurations is a 2d array of the L x L spins\u001b[39;00m\n\u001b[1;32m      <a href='vscode-notebook-cell:/Users/haas/Documents/Masters/CompPhys/adam_repo/FYS4150/Project4/toymodel_spin.ipynb#X26sZmlsZQ%3D%3D?line=5'>6</a>\u001b[0m \u001b[39m    \"\"\"\u001b[39;00m\n\u001b[0;32m----> <a href='vscode-notebook-cell:/Users/haas/Documents/Masters/CompPhys/adam_repo/FYS4150/Project4/toymodel_spin.ipynb#X26sZmlsZQ%3D%3D?line=6'>7</a>\u001b[0m     energy \u001b[39m=\u001b[39m find_energy_given_array_of_configurations(configuration, L)\n\u001b[1;32m      <a href='vscode-notebook-cell:/Users/haas/Documents/Masters/CompPhys/adam_repo/FYS4150/Project4/toymodel_spin.ipynb#X26sZmlsZQ%3D%3D?line=7'>8</a>\u001b[0m     plt\u001b[39m.\u001b[39mimshow(configuration, cmap \u001b[39m=\u001b[39m \u001b[39m'\u001b[39m\u001b[39mPurples\u001b[39m\u001b[39m'\u001b[39m, interpolation \u001b[39m=\u001b[39m \u001b[39m'\u001b[39m\u001b[39mnearest\u001b[39m\u001b[39m'\u001b[39m)\n\u001b[1;32m      <a href='vscode-notebook-cell:/Users/haas/Documents/Masters/CompPhys/adam_repo/FYS4150/Project4/toymodel_spin.ipynb#X26sZmlsZQ%3D%3D?line=8'>9</a>\u001b[0m     plt\u001b[39m.\u001b[39mtitle(\u001b[39mf\u001b[39m\u001b[39m'\u001b[39m\u001b[39mEnergy = \u001b[39m\u001b[39m{\u001b[39;00menergy\u001b[39m}\u001b[39;00m\u001b[39m'\u001b[39m)\n",
      "\u001b[1;32m/Users/haas/Documents/Masters/CompPhys/adam_repo/FYS4150/Project4/toymodel_spin.ipynb Cell 20\u001b[0m in \u001b[0;36mfind_energy_given_array_of_configurations\u001b[0;34m(configuration, L)\u001b[0m\n\u001b[1;32m      <a href='vscode-notebook-cell:/Users/haas/Documents/Masters/CompPhys/adam_repo/FYS4150/Project4/toymodel_spin.ipynb#X26sZmlsZQ%3D%3D?line=8'>9</a>\u001b[0m \u001b[39mfor\u001b[39;00m i \u001b[39min\u001b[39;00m \u001b[39mrange\u001b[39m(\u001b[39mlen\u001b[39m(raveled_config)):\n\u001b[1;32m     <a href='vscode-notebook-cell:/Users/haas/Documents/Masters/CompPhys/adam_repo/FYS4150/Project4/toymodel_spin.ipynb#X26sZmlsZQ%3D%3D?line=9'>10</a>\u001b[0m     \u001b[39m## i will be the index of the term. k,l will be the coordinates of the term\u001b[39;00m\n\u001b[1;32m     <a href='vscode-notebook-cell:/Users/haas/Documents/Masters/CompPhys/adam_repo/FYS4150/Project4/toymodel_spin.ipynb#X26sZmlsZQ%3D%3D?line=10'>11</a>\u001b[0m     \u001b[39mprint\u001b[39m(i)\n\u001b[0;32m---> <a href='vscode-notebook-cell:/Users/haas/Documents/Masters/CompPhys/adam_repo/FYS4150/Project4/toymodel_spin.ipynb#X26sZmlsZQ%3D%3D?line=12'>13</a>\u001b[0m     interacting_pairs \u001b[39m=\u001b[39m find_interacting_pairs(i, raveled_config, L)\n\u001b[1;32m     <a href='vscode-notebook-cell:/Users/haas/Documents/Masters/CompPhys/adam_repo/FYS4150/Project4/toymodel_spin.ipynb#X26sZmlsZQ%3D%3D?line=13'>14</a>\u001b[0m     \u001b[39mfor\u001b[39;00m a, b \u001b[39min\u001b[39;00m interacting_pairs:\n\u001b[1;32m     <a href='vscode-notebook-cell:/Users/haas/Documents/Masters/CompPhys/adam_repo/FYS4150/Project4/toymodel_spin.ipynb#X26sZmlsZQ%3D%3D?line=14'>15</a>\u001b[0m         energy \u001b[39m+\u001b[39m\u001b[39m=\u001b[39m a\u001b[39m*\u001b[39mb\n",
      "\u001b[1;32m/Users/haas/Documents/Masters/CompPhys/adam_repo/FYS4150/Project4/toymodel_spin.ipynb Cell 20\u001b[0m in \u001b[0;36mfind_interacting_pairs\u001b[0;34m(index, raveled_config, L)\u001b[0m\n\u001b[1;32m      <a href='vscode-notebook-cell:/Users/haas/Documents/Masters/CompPhys/adam_repo/FYS4150/Project4/toymodel_spin.ipynb#X26sZmlsZQ%3D%3D?line=2'>3</a>\u001b[0m top_neibours \u001b[39m=\u001b[39m [index \u001b[39m-\u001b[39m L, index \u001b[39m+\u001b[39m L]\n\u001b[1;32m      <a href='vscode-notebook-cell:/Users/haas/Documents/Masters/CompPhys/adam_repo/FYS4150/Project4/toymodel_spin.ipynb#X26sZmlsZQ%3D%3D?line=3'>4</a>\u001b[0m neibours \u001b[39m=\u001b[39m side_neibours \u001b[39m+\u001b[39m top_neibours\n\u001b[0;32m----> <a href='vscode-notebook-cell:/Users/haas/Documents/Masters/CompPhys/adam_repo/FYS4150/Project4/toymodel_spin.ipynb#X26sZmlsZQ%3D%3D?line=4'>5</a>\u001b[0m interacting_pairs \u001b[39m=\u001b[39m [(raveled_config[index], raveled_config[x]) \u001b[39mfor\u001b[39;00m x \u001b[39min\u001b[39;00m neibours]\n\u001b[1;32m      <a href='vscode-notebook-cell:/Users/haas/Documents/Masters/CompPhys/adam_repo/FYS4150/Project4/toymodel_spin.ipynb#X26sZmlsZQ%3D%3D?line=5'>6</a>\u001b[0m \u001b[39mreturn\u001b[39;00m interacting_pairs\n",
      "\u001b[1;32m/Users/haas/Documents/Masters/CompPhys/adam_repo/FYS4150/Project4/toymodel_spin.ipynb Cell 20\u001b[0m in \u001b[0;36m<listcomp>\u001b[0;34m(.0)\u001b[0m\n\u001b[1;32m      <a href='vscode-notebook-cell:/Users/haas/Documents/Masters/CompPhys/adam_repo/FYS4150/Project4/toymodel_spin.ipynb#X26sZmlsZQ%3D%3D?line=2'>3</a>\u001b[0m top_neibours \u001b[39m=\u001b[39m [index \u001b[39m-\u001b[39m L, index \u001b[39m+\u001b[39m L]\n\u001b[1;32m      <a href='vscode-notebook-cell:/Users/haas/Documents/Masters/CompPhys/adam_repo/FYS4150/Project4/toymodel_spin.ipynb#X26sZmlsZQ%3D%3D?line=3'>4</a>\u001b[0m neibours \u001b[39m=\u001b[39m side_neibours \u001b[39m+\u001b[39m top_neibours\n\u001b[0;32m----> <a href='vscode-notebook-cell:/Users/haas/Documents/Masters/CompPhys/adam_repo/FYS4150/Project4/toymodel_spin.ipynb#X26sZmlsZQ%3D%3D?line=4'>5</a>\u001b[0m interacting_pairs \u001b[39m=\u001b[39m [(raveled_config[index], raveled_config[x]) \u001b[39mfor\u001b[39;00m x \u001b[39min\u001b[39;00m neibours]\n\u001b[1;32m      <a href='vscode-notebook-cell:/Users/haas/Documents/Masters/CompPhys/adam_repo/FYS4150/Project4/toymodel_spin.ipynb#X26sZmlsZQ%3D%3D?line=5'>6</a>\u001b[0m \u001b[39mreturn\u001b[39;00m interacting_pairs\n",
      "\u001b[0;31mIndexError\u001b[0m: index 4 is out of bounds for axis 0 with size 4"
     ]
    }
   ],
   "source": [
    "plot_configurations(configuration, 2)"
   ]
  },
  {
   "cell_type": "code",
   "execution_count": null,
   "metadata": {},
   "outputs": [],
   "source": []
  }
 ],
 "metadata": {
  "kernelspec": {
   "display_name": "Python 3.10.2 64-bit ('3.10.2')",
   "language": "python",
   "name": "python3"
  },
  "language_info": {
   "codemirror_mode": {
    "name": "ipython",
    "version": 3
   },
   "file_extension": ".py",
   "mimetype": "text/x-python",
   "name": "python",
   "nbconvert_exporter": "python",
   "pygments_lexer": "ipython3",
   "version": "3.10.2"
  },
  "orig_nbformat": 4,
  "vscode": {
   "interpreter": {
    "hash": "725bbe29d1c18d191ac0c85feb075f75ad20654624becd29588183ed39edd8e6"
   }
  }
 },
 "nbformat": 4,
 "nbformat_minor": 2
}
