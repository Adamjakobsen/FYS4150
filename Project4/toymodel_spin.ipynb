{
 "cells": [
  {
   "cell_type": "code",
   "execution_count": 8,
   "metadata": {},
   "outputs": [],
   "source": [
    "list_config_1 = [\"+\", \"+\", \"-\", \"-\"]\n",
    "list_config_2 = [\"+\", \"+\", \"+\", \"+\"]\n",
    "list_config_3 = [\"-\", \"-\", \"-\", \"-\"]\n",
    "list_config_4 = [\"+\", \"+\", \"+\", \"-\"]\n",
    "list_config_5 = [\"+\", \"-\", \"-\", \"-\"]"
   ]
  },
  {
   "cell_type": "code",
   "execution_count": 9,
   "metadata": {},
   "outputs": [],
   "source": [
    "#write permutations of 0,1,2,3\n",
    "def permute(list_config):\n",
    "    if len(list_config) == 0:\n",
    "        return []\n",
    "    if len(list_config) == 1:\n",
    "        return [list_config]\n",
    "    l = []\n",
    "    for i in range(len(list_config)):\n",
    "        m = list_config[i]\n",
    "        remLst = list_config[:i] + list_config[i+1:]\n",
    "        for p in permute(remLst):\n",
    "            l.append([m] + p)\n",
    "    return l"
   ]
  },
  {
   "cell_type": "code",
   "execution_count": 10,
   "metadata": {},
   "outputs": [],
   "source": [
    "index = permute([0,1,2,3])"
   ]
  },
  {
   "cell_type": "code",
   "execution_count": 11,
   "metadata": {},
   "outputs": [],
   "source": [
    "set_ = [] \n",
    "\n",
    "for set_of_index in index:\n",
    "    string = ''\n",
    "    for i in set_of_index:\n",
    "        string += list_config_1[i] \n",
    "    set_.append(string)"
   ]
  },
  {
   "cell_type": "code",
   "execution_count": 12,
   "metadata": {},
   "outputs": [
    {
     "data": {
      "text/plain": [
       "{'++--', '+-+-', '+--+', '-++-', '-+-+', '--++'}"
      ]
     },
     "execution_count": 12,
     "metadata": {},
     "output_type": "execute_result"
    }
   ],
   "source": [
    "strings = set(set_)\n",
    "strings"
   ]
  },
  {
   "cell_type": "code",
   "execution_count": 13,
   "metadata": {},
   "outputs": [],
   "source": [
    "def find_interacting_pairs(index, string):\n",
    "    neibours = {'0':[1, 2, 1, 2], '1':[0, 3, 0, 3], '2':[0, 3, 0, 3], '3':[1, 2, 1, 2]}\n",
    "    neibours = neibours[str(index)]\n",
    "    interacting_pairs = [(string[index], string[x]) for x in neibours]\n",
    "    return interacting_pairs"
   ]
  },
  {
   "cell_type": "code",
   "execution_count": 14,
   "metadata": {},
   "outputs": [
    {
     "data": {
      "text/plain": [
       "[('+', '-'), ('+', '+'), ('+', '-'), ('+', '+')]"
      ]
     },
     "execution_count": 14,
     "metadata": {},
     "output_type": "execute_result"
    }
   ],
   "source": [
    "test = find_interacting_pairs(0, '+-++')\n",
    "test"
   ]
  },
  {
   "cell_type": "code",
   "execution_count": 15,
   "metadata": {},
   "outputs": [],
   "source": [
    "def find_energy_given_string_of_configurations(string):\n",
    "    \"\"\"\n",
    "    notice we are taking into account the periodic boundary conditions\n",
    "    \"\"\"\n",
    "    energy = 0\n",
    "    for i in range(len(string)):\n",
    "        interacting_pairs = find_interacting_pairs(i, string)\n",
    "        for a,b in interacting_pairs:\n",
    "            a += '1'\n",
    "            b += '1'\n",
    "            prod = a + '*' +b\n",
    "            energy += eval(prod)\n",
    "    return (-1/2)*energy ## notice the minus sign and that we count each pair twice"
   ]
  },
  {
   "cell_type": "code",
   "execution_count": 16,
   "metadata": {},
   "outputs": [
    {
     "data": {
      "text/plain": [
       "-0.0"
      ]
     },
     "execution_count": 16,
     "metadata": {},
     "output_type": "execute_result"
    }
   ],
   "source": [
    "find_energy_given_string_of_configurations('+---')"
   ]
  },
  {
   "cell_type": "code",
   "execution_count": 17,
   "metadata": {},
   "outputs": [
    {
     "data": {
      "text/plain": [
       "{'++--', '+-+-', '+--+', '-++-', '-+-+', '--++'}"
      ]
     },
     "execution_count": 17,
     "metadata": {},
     "output_type": "execute_result"
    }
   ],
   "source": [
    "strings"
   ]
  },
  {
   "cell_type": "code",
   "execution_count": 19,
   "metadata": {},
   "outputs": [
    {
     "data": {
      "text/plain": [
       "{'++--': -0.0,\n",
       " '+-+-': -0.0,\n",
       " '-++-': 8.0,\n",
       " '-+-+': -0.0,\n",
       " '--++': -0.0,\n",
       " '+--+': 8.0}"
      ]
     },
     "execution_count": 19,
     "metadata": {},
     "output_type": "execute_result"
    }
   ],
   "source": [
    "ising_model(strings)"
   ]
  },
  {
   "cell_type": "code",
   "execution_count": 20,
   "metadata": {},
   "outputs": [],
   "source": [
    "#### scaling the problem"
   ]
  },
  {
   "cell_type": "code",
   "execution_count": 12,
   "metadata": {},
   "outputs": [],
   "source": [
    "## Generate random configurations of N = L X L spins\n",
    "import random \n",
    "import numpy as np\n",
    "def init_random_config(L):\n",
    "    \"\"\"\n",
    "    L is the length of the square lattice\n",
    "    \"\"\"\n",
    "    configurations = np.zeros((L, L))\n",
    "    for i in range(L):\n",
    "        for j in range(L):\n",
    "            configurations[i, j] = random.choice([+1, -1])\n",
    "    return configurations"
   ]
  },
  {
   "cell_type": "code",
   "execution_count": 13,
   "metadata": {},
   "outputs": [
    {
     "data": {
      "text/plain": [
       "array([[ 1., -1.,  1.,  1., -1.,  1.,  1., -1.,  1.,  1.],\n",
       "       [-1., -1.,  1., -1., -1., -1., -1.,  1.,  1.,  1.],\n",
       "       [ 1., -1., -1., -1., -1.,  1., -1.,  1., -1.,  1.],\n",
       "       [-1.,  1.,  1.,  1.,  1., -1.,  1.,  1., -1.,  1.],\n",
       "       [-1.,  1.,  1., -1., -1., -1.,  1.,  1.,  1.,  1.],\n",
       "       [ 1., -1., -1., -1., -1.,  1., -1., -1., -1., -1.],\n",
       "       [ 1., -1., -1., -1.,  1., -1.,  1.,  1., -1., -1.],\n",
       "       [-1.,  1., -1., -1.,  1., -1., -1., -1., -1.,  1.],\n",
       "       [-1.,  1.,  1., -1., -1.,  1.,  1.,  1., -1., -1.],\n",
       "       [ 1., -1.,  1., -1., -1.,  1., -1., -1., -1.,  1.]])"
      ]
     },
     "execution_count": 13,
     "metadata": {},
     "output_type": "execute_result"
    }
   ],
   "source": [
    "configuration = init_random_config(10)\n",
    "configuration \n"
   ]
  },
  {
   "cell_type": "code",
   "execution_count": 14,
   "metadata": {},
   "outputs": [
    {
     "data": {
      "text/plain": [
       "[24, 9]"
      ]
     },
     "execution_count": 14,
     "metadata": {},
     "output_type": "execute_result"
    }
   ],
   "source": [
    "index = 4\n",
    "L = 5\n",
    "top_neibours = [(index - L)%25, (index + L)%25]\n",
    "top_neibours"
   ]
  },
  {
   "cell_type": "code",
   "execution_count": 81,
   "metadata": {},
   "outputs": [],
   "source": [
    "def find_interacting_pairs(index, raveled_config, L):\n",
    "    side_neibours = [(index - 1) % L + L*(index//L), (index + 1) % L+ L*(index//L)]\n",
    "    top_neibours = [(index - L)%(L*L), (index + L)%(L*L)]\n",
    "    neibours = side_neibours + top_neibours\n",
    "    #print('index', index,'neibours', neibours)\n",
    "    #print('len raveled config', len(raveled_config))\n",
    "    interacting_pairs = [(raveled_config[index], raveled_config[x]) for x in neibours]\n",
    "    return interacting_pairs"
   ]
  },
  {
   "cell_type": "code",
   "execution_count": 99,
   "metadata": {},
   "outputs": [],
   "source": [
    "# evolve the system given the initial configuration and boltzmann probability\n",
    "def evolve(config, beta):\n",
    "    L = len(config)\n",
    "    raveled_config = config.ravel()\n",
    "    for i in range(L*L):\n",
    "        interacting_pairs = find_interacting_pairs(i, raveled_config, L)\n",
    "        energy = 0\n",
    "        for a,b in interacting_pairs:\n",
    "            energy += -(a*b)\n",
    "\n",
    "        delta_E = -2*energy # because delta_E = E_new - E_old = -((-a)*b) - (-(a*b)) = 2*(a*b) = -2*energy\n",
    "        if delta_E < 0: # if the energy is lower, accept the new configuration\n",
    "            raveled_config[i] *= -1\n",
    "        else:\n",
    "            if random.random() < np.exp(-beta*delta_E): # if the energy is higher, accept the new configuration with a probability\n",
    "                raveled_config[i] *= -1\n",
    "    return raveled_config.reshape(L,L)"
   ]
  },
  {
   "cell_type": "code",
   "execution_count": 100,
   "metadata": {},
   "outputs": [
    {
     "data": {
      "text/plain": [
       "[(1.0, 1.0), (1.0, 1.0), (1.0, 1.0), (1.0, 1.0)]"
      ]
     },
     "execution_count": 100,
     "metadata": {},
     "output_type": "execute_result"
    }
   ],
   "source": [
    "## seems to work\n",
    "test = find_interacting_pairs(0, configuration.ravel(), 5)\n",
    "test"
   ]
  },
  {
   "cell_type": "code",
   "execution_count": 101,
   "metadata": {},
   "outputs": [],
   "source": [
    "def find_energy_given_array_of_configurations(configuration, L):\n",
    "    \"\"\"\n",
    "    notice we are taking into account the periodic boundary conditions\n",
    "    \"\"\"\n",
    "    energy = 0\n",
    "    raveled_config = configuration.ravel()\n",
    "    ## this is dumb now but will be useful later when we select only one term to flip\n",
    "\n",
    "    for i in range(len(raveled_config)):\n",
    "        ## i will be the index of the term. k,l will be the coordinates of the term\n",
    "\n",
    "        interacting_pairs = find_interacting_pairs(i, raveled_config, L)\n",
    "        for a, b in interacting_pairs:\n",
    "            energy += a*b\n",
    "    return (-1/2)*energy ## notice the minus sign and that we count each pair twice"
   ]
  },
  {
   "cell_type": "code",
   "execution_count": 131,
   "metadata": {},
   "outputs": [],
   "source": [
    "# plot a 2d grid of the L x L spins\n",
    "from time import sleep \n",
    "import matplotlib.pyplot as plt\n",
    "def plot_configurations(L, init=False, epochs=None):\n",
    "    \"\"\"\n",
    "    configurations is a 2d array of the L x L spins\n",
    "    \"\"\"\n",
    "    if init: # else we are evolving the system\n",
    "        configuration = init_random_config(L)\n",
    "        energy = find_energy_given_array_of_configurations(configuration, L)\n",
    "        plt.imshow(configuration, cmap = 'Purples', interpolation = 'nearest')\n",
    "        plt.title(f'Energy = {energy}')\n",
    "\n",
    "        plt.show()\n",
    "    else:\n",
    "        configuration = init_random_config(L)\n",
    "\n",
    "        kb = 1 ## only for testing\n",
    "        T = 1\n",
    "        beta = 1/(kb*T)\n",
    "        for i in range(epochs):\n",
    "            configuration = evolve(configuration, beta)\n",
    "            energy = find_energy_given_array_of_configurations(configuration, L)\n",
    "            plt.imshow(configuration, cmap = 'Purples', interpolation = 'nearest')\n",
    "            plt.title(f'Energy = {energy}')\n",
    "            # animate the plot wit\n",
    "            plt.clf()\n",
    "            plt.plot()\n",
    "            sleep(0.1)"
   ]
  },
  {
   "cell_type": "code",
   "execution_count": 132,
   "metadata": {},
   "outputs": [
    {
     "data": {
      "image/png": "[encoded data removed]",
      "text/plain": [
       "<Figure size 432x288 with 1 Axes>"
      ]
     },
     "metadata": {
      "needs_background": "light"
     },
     "output_type": "display_data"
    }
   ],
   "source": [
    "plot_configurations(100, init=True)"
   ]
  },
  {
   "cell_type": "code",
   "execution_count": 133,
   "metadata": {},
   "outputs": [
    {
     "ename": "KeyboardInterrupt",
     "evalue": "",
     "output_type": "error",
     "traceback": [
      "\u001b[0;31m---------------------------------------------------------------------------\u001b[0m",
      "\u001b[0;31mKeyboardInterrupt\u001b[0m                         Traceback (most recent call last)",
      "\u001b[1;32m/Users/haas/Documents/Masters/CompPhys/adam_repo/FYS4150/Project4/toymodel_spin.ipynb Cell 22\u001b[0m in \u001b[0;36m<cell line: 1>\u001b[0;34m()\u001b[0m\n\u001b[0;32m----> <a href='vscode-notebook-cell:/Users/haas/Documents/Masters/CompPhys/adam_repo/FYS4150/Project4/toymodel_spin.ipynb#X26sZmlsZQ%3D%3D?line=0'>1</a>\u001b[0m plot_configurations(\u001b[39m100\u001b[39;49m, init\u001b[39m=\u001b[39;49m\u001b[39mFalse\u001b[39;49;00m, epochs\u001b[39m=\u001b[39;49m\u001b[39m100\u001b[39;49m)\n",
      "\u001b[1;32m/Users/haas/Documents/Masters/CompPhys/adam_repo/FYS4150/Project4/toymodel_spin.ipynb Cell 22\u001b[0m in \u001b[0;36mplot_configurations\u001b[0;34m(L, init, epochs)\u001b[0m\n\u001b[1;32m     <a href='vscode-notebook-cell:/Users/haas/Documents/Masters/CompPhys/adam_repo/FYS4150/Project4/toymodel_spin.ipynb#X26sZmlsZQ%3D%3D?line=19'>20</a>\u001b[0m beta \u001b[39m=\u001b[39m \u001b[39m1\u001b[39m\u001b[39m/\u001b[39m(kb\u001b[39m*\u001b[39mT)\n\u001b[1;32m     <a href='vscode-notebook-cell:/Users/haas/Documents/Masters/CompPhys/adam_repo/FYS4150/Project4/toymodel_spin.ipynb#X26sZmlsZQ%3D%3D?line=20'>21</a>\u001b[0m \u001b[39mfor\u001b[39;00m i \u001b[39min\u001b[39;00m \u001b[39mrange\u001b[39m(epochs):\n\u001b[0;32m---> <a href='vscode-notebook-cell:/Users/haas/Documents/Masters/CompPhys/adam_repo/FYS4150/Project4/toymodel_spin.ipynb#X26sZmlsZQ%3D%3D?line=21'>22</a>\u001b[0m     configuration \u001b[39m=\u001b[39m evolve(configuration, beta)\n\u001b[1;32m     <a href='vscode-notebook-cell:/Users/haas/Documents/Masters/CompPhys/adam_repo/FYS4150/Project4/toymodel_spin.ipynb#X26sZmlsZQ%3D%3D?line=22'>23</a>\u001b[0m     energy \u001b[39m=\u001b[39m find_energy_given_array_of_configurations(configuration, L)\n\u001b[1;32m     <a href='vscode-notebook-cell:/Users/haas/Documents/Masters/CompPhys/adam_repo/FYS4150/Project4/toymodel_spin.ipynb#X26sZmlsZQ%3D%3D?line=23'>24</a>\u001b[0m     plt\u001b[39m.\u001b[39mimshow(configuration, cmap \u001b[39m=\u001b[39m \u001b[39m'\u001b[39m\u001b[39mPurples\u001b[39m\u001b[39m'\u001b[39m, interpolation \u001b[39m=\u001b[39m \u001b[39m'\u001b[39m\u001b[39mnearest\u001b[39m\u001b[39m'\u001b[39m)\n",
      "\u001b[1;32m/Users/haas/Documents/Masters/CompPhys/adam_repo/FYS4150/Project4/toymodel_spin.ipynb Cell 22\u001b[0m in \u001b[0;36mevolve\u001b[0;34m(config, beta)\u001b[0m\n\u001b[1;32m      <a href='vscode-notebook-cell:/Users/haas/Documents/Masters/CompPhys/adam_repo/FYS4150/Project4/toymodel_spin.ipynb#X26sZmlsZQ%3D%3D?line=3'>4</a>\u001b[0m raveled_config \u001b[39m=\u001b[39m config\u001b[39m.\u001b[39mravel()\n\u001b[1;32m      <a href='vscode-notebook-cell:/Users/haas/Documents/Masters/CompPhys/adam_repo/FYS4150/Project4/toymodel_spin.ipynb#X26sZmlsZQ%3D%3D?line=4'>5</a>\u001b[0m \u001b[39mfor\u001b[39;00m i \u001b[39min\u001b[39;00m \u001b[39mrange\u001b[39m(L\u001b[39m*\u001b[39mL):\n\u001b[0;32m----> <a href='vscode-notebook-cell:/Users/haas/Documents/Masters/CompPhys/adam_repo/FYS4150/Project4/toymodel_spin.ipynb#X26sZmlsZQ%3D%3D?line=5'>6</a>\u001b[0m     interacting_pairs \u001b[39m=\u001b[39m find_interacting_pairs(i, raveled_config, L)\n\u001b[1;32m      <a href='vscode-notebook-cell:/Users/haas/Documents/Masters/CompPhys/adam_repo/FYS4150/Project4/toymodel_spin.ipynb#X26sZmlsZQ%3D%3D?line=6'>7</a>\u001b[0m     energy \u001b[39m=\u001b[39m \u001b[39m0\u001b[39m\n\u001b[1;32m      <a href='vscode-notebook-cell:/Users/haas/Documents/Masters/CompPhys/adam_repo/FYS4150/Project4/toymodel_spin.ipynb#X26sZmlsZQ%3D%3D?line=7'>8</a>\u001b[0m     \u001b[39mfor\u001b[39;00m a,b \u001b[39min\u001b[39;00m interacting_pairs:\n",
      "\u001b[1;32m/Users/haas/Documents/Masters/CompPhys/adam_repo/FYS4150/Project4/toymodel_spin.ipynb Cell 22\u001b[0m in \u001b[0;36mfind_interacting_pairs\u001b[0;34m(index, raveled_config, L)\u001b[0m\n\u001b[1;32m      <a href='vscode-notebook-cell:/Users/haas/Documents/Masters/CompPhys/adam_repo/FYS4150/Project4/toymodel_spin.ipynb#X26sZmlsZQ%3D%3D?line=3'>4</a>\u001b[0m neibours \u001b[39m=\u001b[39m side_neibours \u001b[39m+\u001b[39m top_neibours\n\u001b[1;32m      <a href='vscode-notebook-cell:/Users/haas/Documents/Masters/CompPhys/adam_repo/FYS4150/Project4/toymodel_spin.ipynb#X26sZmlsZQ%3D%3D?line=4'>5</a>\u001b[0m \u001b[39m#print('index', index,'neibours', neibours)\u001b[39;00m\n\u001b[1;32m      <a href='vscode-notebook-cell:/Users/haas/Documents/Masters/CompPhys/adam_repo/FYS4150/Project4/toymodel_spin.ipynb#X26sZmlsZQ%3D%3D?line=5'>6</a>\u001b[0m \u001b[39m#print('len raveled config', len(raveled_config))\u001b[39;00m\n\u001b[0;32m----> <a href='vscode-notebook-cell:/Users/haas/Documents/Masters/CompPhys/adam_repo/FYS4150/Project4/toymodel_spin.ipynb#X26sZmlsZQ%3D%3D?line=6'>7</a>\u001b[0m interacting_pairs \u001b[39m=\u001b[39m [(raveled_config[index], raveled_config[x]) \u001b[39mfor\u001b[39;00m x \u001b[39min\u001b[39;00m neibours]\n\u001b[1;32m      <a href='vscode-notebook-cell:/Users/haas/Documents/Masters/CompPhys/adam_repo/FYS4150/Project4/toymodel_spin.ipynb#X26sZmlsZQ%3D%3D?line=7'>8</a>\u001b[0m \u001b[39mreturn\u001b[39;00m interacting_pairs\n",
      "\u001b[1;32m/Users/haas/Documents/Masters/CompPhys/adam_repo/FYS4150/Project4/toymodel_spin.ipynb Cell 22\u001b[0m in \u001b[0;36m<listcomp>\u001b[0;34m(.0)\u001b[0m\n\u001b[1;32m      <a href='vscode-notebook-cell:/Users/haas/Documents/Masters/CompPhys/adam_repo/FYS4150/Project4/toymodel_spin.ipynb#X26sZmlsZQ%3D%3D?line=3'>4</a>\u001b[0m neibours \u001b[39m=\u001b[39m side_neibours \u001b[39m+\u001b[39m top_neibours\n\u001b[1;32m      <a href='vscode-notebook-cell:/Users/haas/Documents/Masters/CompPhys/adam_repo/FYS4150/Project4/toymodel_spin.ipynb#X26sZmlsZQ%3D%3D?line=4'>5</a>\u001b[0m \u001b[39m#print('index', index,'neibours', neibours)\u001b[39;00m\n\u001b[1;32m      <a href='vscode-notebook-cell:/Users/haas/Documents/Masters/CompPhys/adam_repo/FYS4150/Project4/toymodel_spin.ipynb#X26sZmlsZQ%3D%3D?line=5'>6</a>\u001b[0m \u001b[39m#print('len raveled config', len(raveled_config))\u001b[39;00m\n\u001b[0;32m----> <a href='vscode-notebook-cell:/Users/haas/Documents/Masters/CompPhys/adam_repo/FYS4150/Project4/toymodel_spin.ipynb#X26sZmlsZQ%3D%3D?line=6'>7</a>\u001b[0m interacting_pairs \u001b[39m=\u001b[39m [(raveled_config[index], raveled_config[x]) \u001b[39mfor\u001b[39;00m x \u001b[39min\u001b[39;00m neibours]\n\u001b[1;32m      <a href='vscode-notebook-cell:/Users/haas/Documents/Masters/CompPhys/adam_repo/FYS4150/Project4/toymodel_spin.ipynb#X26sZmlsZQ%3D%3D?line=7'>8</a>\u001b[0m \u001b[39mreturn\u001b[39;00m interacting_pairs\n",
      "\u001b[0;31mKeyboardInterrupt\u001b[0m: "
     ]
    },
    {
     "data": {
      "image/png": "[encoded data removed]",
      "text/plain": [
       "<Figure size 432x288 with 1 Axes>"
      ]
     },
     "metadata": {
      "needs_background": "light"
     },
     "output_type": "display_data"
    }
   ],
   "source": [
    "plot_configurations(100, init=False, epochs=100)"
   ]
  },
  {
   "cell_type": "code",
   "execution_count": 142,
   "metadata": {},
   "outputs": [
    {
     "data": {
      "text/plain": [
       "1"
      ]
     },
     "execution_count": 142,
     "metadata": {},
     "output_type": "execute_result"
    }
   ],
   "source": [
    "9//7"
   ]
  },
  {
   "cell_type": "code",
   "execution_count": 141,
   "metadata": {},
   "outputs": [
    {
     "data": {
      "text/plain": [
       "1"
      ]
     },
     "execution_count": 141,
     "metadata": {},
     "output_type": "execute_result"
    }
   ],
   "source": [
    "8%7"
   ]
  },
  {
   "cell_type": "code",
   "execution_count": null,
   "metadata": {},
   "outputs": [],
   "source": []
  }
 ],
 "metadata": {
  "kernelspec": {
   "display_name": "Python 3.10.2 64-bit ('3.10.2')",
   "language": "python",
   "name": "python3"
  },
  "language_info": {
   "codemirror_mode": {
    "name": "ipython",
    "version": 3
   },
   "file_extension": ".py",
   "mimetype": "text/x-python",
   "name": "python",
   "nbconvert_exporter": "python",
   "pygments_lexer": "ipython3",
   "version": "3.10.2"
  },
  "orig_nbformat": 4,
  "vscode": {
   "interpreter": {
    "hash": "725bbe29d1c18d191ac0c85feb075f75ad20654624becd29588183ed39edd8e6"
   }
  }
 },
 "nbformat": 4,
 "nbformat_minor": 2
}
